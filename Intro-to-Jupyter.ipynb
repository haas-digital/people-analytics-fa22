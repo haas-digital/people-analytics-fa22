{
 "cells": [
  {
   "cell_type": "markdown",
   "metadata": {},
   "source": [
    "# EWMBA-257: People Analytics\n",
    "## Introduction to Jupyter \n",
    "\n",
    "\n",
    "<img src=\"images/berkeley_img-4-1.jpg\"  />\n",
    "\n",
    "In this notebook, we introduce Jupyter notebooks and how to use them for your EWMBA-257 assignment. \n",
    "\n",
    "Estimated time to complete: 5 minutes\n",
    "\n",
    "### Table of Contents\n",
    "\n",
    "1.  <a href='#section1'>Welcome to Jupyter Notebooks</a>\n",
    "\n",
    "    a. <a href='#subsection 1a'>Navigating</a>\n",
    "\n",
    "    b. <a href='#subsection 1b'>Running Code</a>\n",
    "\n",
    "    c. <a href='#subsection 1c'>Editing</a>\n",
    "\n",
    "    d. <a href='#subsection 1d'>Saving and Loading</a>\n",
    "    \n",
    "    e. <a href='#subsection 1e'> Completing the Notebooks</a>\n",
    "    \n",
    "    f. <a href='subsection 1f'> Getting Help </a>"
   ]
  },
  {
   "cell_type": "markdown",
   "metadata": {},
   "source": [
    "## 1. Welcome to Jupyter  <a id='section1'></a>\n",
    "\n",
    "Welcome to the Jupyter Notebook! **Notebooks** are files that can contain text, code, visualizations, and more. We'll be using them in this course to work with data hands-on.\n",
    "\n",
    "### 1a. Navigating <a id='section1a'></a>\n",
    "\n",
    "A notebook is composed of rectangular sections called **cells**. There are 2 kinds of cells: markdown and code. A **Markdown cell**, such as this one, has a white background and contains text. A **code cell** has a gray background and contains computer code. \n",
    "\n",
    "You can select any cell by clicking it once. A selected cell will have a colored box around it. After a cell is selected, you can navigate from cell to cell using the up and down arrow keys.\n"
   ]
  },
  {
   "cell_type": "markdown",
   "metadata": {},
   "source": [
    "Here's a Markdown cell."
   ]
  },
  {
   "cell_type": "code",
   "execution_count": null,
   "metadata": {},
   "outputs": [],
   "source": [
    "# this is a code cell"
   ]
  },
  {
   "cell_type": "markdown",
   "metadata": {},
   "source": [
    "Every notebook will start off with a *table of contents* that lists the topics to be covered. You can click on any of the section titles in the table of contents to jump to that section."
   ]
  },
  {
   "cell_type": "markdown",
   "metadata": {},
   "source": [
    "### 1b. Running Code <a id='section1b'></a>\n",
    "**Computer code** is a set of instructions or tasks given to a computer. In a Jupyter notebook, you can both run code and write code (i.e. send the instructions to the computer and ask it to carry them out).\n",
    "\n",
    "<div class=\"alert alert-info\"><b>NOTE: </b>For this assignment, you will NOT need any programming experience, and you will NOT be asked to write your own code. You <b>will</b> be asked to run code that has already been written, and you will be asked to fill values at a few spots.</div>\n",
    "\n",
    "To run the code in a code cell, you must first select the code cell. Once the cell is selected, you can run it using any of the following methods:\n",
    "- press Shift-Enter or Ctrl-Enter, or\n",
    "- click the Run button in the toolbar at the top of the screen. \n",
    "\n",
    "If a code cell is running, you will see an asterisk (\\*) appear in the square brackets to the left of the cell. Once the cell has finished running, a number will replace the asterisk.\n",
    "\n",
    "You will see the *output* of the code cell (the results of the instructions you gave to the computer) beneath the code cell."
   ]
  },
  {
   "cell_type": "code",
   "execution_count": null,
   "metadata": {},
   "outputs": [],
   "source": [
    "# run this cell to see the output below\n",
    "print(\"Hello World!\")"
   ]
  },
  {
   "cell_type": "markdown",
   "metadata": {},
   "source": [
    "You'll notice that many code cells contain lines of blue text that start with a `#`. These are *comments*. Comments often contain helpful information about what the code does or what you are supposed to do in the cell. The leading `#` tells the computer to ignore them.\n",
    "\n",
    "Note: not all code will give back an output. You will usually only see an output if one of the instructions tells the computer to give you something back.\n",
    "\n",
    "Try running the following cell. Notice that it doesn't have an output, but you can still tell that it has been run by the number to the left of it. \n",
    "\n",
    "<div class=\"alert alert-info\"><b> Note</b>: just because there is code in a cell doesn't mean that the computer \"knows\" about it. Your computer will only complete your instructions when you run the code cell. Even if a code cell has no output, it's important to run the cell to send the instructions to the computer. </div>"
   ]
  },
  {
   "cell_type": "code",
   "execution_count": null,
   "metadata": {},
   "outputs": [],
   "source": [
    "# this cell doesn't have an output\n",
    "x = 42"
   ]
  },
  {
   "cell_type": "markdown",
   "metadata": {},
   "source": [
    "\n",
    "### 1c. Editing <a id='section1c'></a>\n",
    "\n",
    "You can edit a Markdown cell by clicking it twice.\n",
    "\n",
    "Text in Markdown cells is written in [**Markdown**](https://daringfireball.net/projects/markdown/), a formatting syntax for plain text, so you may see some funky symbols when you edit a text cell. You are NOT required to use Markdown formatting when you write your short answers.\n",
    "\n",
    "Once you've made your changes, you can exit text editing mode by running the cell (i.e. clicking the Run button in the top toolbar, or pressing Shift+Enter while the cell is highlighted). \n",
    "\n",
    "Try editing the next Markdown cell."
   ]
  },
  {
   "cell_type": "markdown",
   "metadata": {},
   "source": [
    "**EDIT THIS CELL**"
   ]
  },
  {
   "cell_type": "markdown",
   "metadata": {},
   "source": [
    "Code cells can be edited any time after they are highlighted. Try editing the next code cell to print your name."
   ]
  },
  {
   "cell_type": "code",
   "execution_count": null,
   "metadata": {},
   "outputs": [],
   "source": [
    "# edit the code to print your name\n",
    "print(\"Hello: my name is ______\")"
   ]
  },
  {
   "cell_type": "markdown",
   "metadata": {},
   "source": [
    "### 1d. Saving and Loading <a id='section1d'></a>\n",
    "\n",
    "Your notebook can record all of your text and code edits, as well as any graphs you generate or calculations you make. You can save the notebook in its current state by clicking Ctrl-S, clicking the floppy disc icon in the toolbar at the top of the page, or by going to the File menu and selecting \"Save and Checkpoint\".\n",
    "\n",
    "The next time you open the notebook, it will look the same as when you last saved it.\n",
    "\n",
    "<div class=\"alert alert-info\"><p><b>Note:</b> after loading a notebook on a different day, you  will see all the outputs (graphs, computations, etc) from your last session, but your computer will have \"forgotten\" any names you gave to variables or functions. </p>\n",
    "\n",
    "<p>You can get the functions and variables back by re-running the cells where they were defined- the easiest way is to highlight the cell where you left off work, then go to the Cell menu at the top of the screen and click \"Run all above\". You can also use this menu to run all cells in the notebook by clicking \"Run all\".</p></div>"
   ]
  },
  {
   "cell_type": "markdown",
   "metadata": {},
   "source": [
    "### 1e. Completing the Notebooks <a id='section1e'></a>\n",
    "\n",
    "As you navigate the notebooks, you'll see colored cells with bold, all-capitalized headings that indicate section that need to be filled in to complete the notebook:\n",
    "            \n",
    "<div class=\"alert alert-warning\"> <b>QUESTION</b> cells ask you to write short answers, often related to analyzing a graph or the result of a computation in the case study, or fill values into pre-written code.</div>\n",
    "\n",
    "\n",
    "When you see a gold QUESTION  cell in a future notebook, it means you need to add an answer to the cell beneath it.\n",
    "\n",
    "After you have finished the notebook, you will download it as a pdf file and upload it to the bCourses site. To download notebooks as pdfs:\n",
    "\n",
    "1. Go to the \"File\" menu at the top left of the notebook screen\n",
    "2. Click \"Download as\", then click \"PDF vis LaTeX (.pdf)\"\n",
    "3. Depending on how your internet browser is set up to handle PDF files, your download may start automatically or you may be asked where you want to save the file.\n",
    "\n",
    "A copy of these instructions on how to submit the notebooks will be at bottom of the assignment notebook."
   ]
  },
  {
   "cell_type": "markdown",
   "metadata": {},
   "source": [
    "### 1f. Getting Help <a id='section1f'></a>\n",
    "\n",
    "As you go through this assignment, you might have questions or technical errors come up. A few troubleshooting tips can help you solve most Jupyter problems:\n",
    "\n",
    "1. **re-run your code cells**: if you get an \"object '___' not found\" error under a code cell, you may have forgotten to run a cell above it. Try re-running previous cells in order, from top to bottom, or go to the Cell menu and click \"Run all\" or \"Run all above\".\n",
    "2. **try a different browser**: either Firefox or Chrome should work with minimal issues.\n",
    "3. **restart your notebook kernel**: the \"kernel\" is the program that runs Jupyter. Restart it by going to the Kernel menu and clicking \"Restart\". Note: this will make Jupyter \"forget\" any commands you previously gave it; you will need to re-run previously run code cells.\n",
    "4. **restart your server**: if all else fails, try clicking \"Control Panel\" at the top right, then click \"Stop my server\" followed by \"Start my server\". Like restarting your kernel, this will require you to re-run any code cells you had already executed.\n",
    "\n",
    "There are also several resources available to help you at any time:\n",
    "\n",
    "* **Your classmates**: it's not uncommon for students to enter this course with some familiarity with programming, R, and/or Jupyter.\n",
    "* **Your course reader**: reach out to Ignacio Solis via email or bCourses with questions on programming and Jupyter.\n",
    "* **The Data Peer Consultants**: this group of Berkeley students provides free online drop-in consultations for any Berkeley students working with Jupyter or data analysis. See their schedule and attend a consultation at [https://data.berkeley.edu/ds-peer-consulting](https://data.berkeley.edu/ds-peer-consulting).\n",
    "* **The internet**: the first thing most professional data analysts do when they run into technical issues is to Google them. Jupyter and R are both widely-used and well-documented- the solution to your problem may already be online!\n",
    "\n"
   ]
  },
  {
   "cell_type": "markdown",
   "metadata": {},
   "source": [
    "#### References\n",
    "\n",
    "- Sections of \"Intro to Jupyter\" adapted from materials by Kelly Chen and Ashley Chien in [UC Berkeley Data Science Modules core resources](http://github.com/ds-modules/core-resources)"
   ]
  },
  {
   "cell_type": "markdown",
   "metadata": {},
   "source": [
    "Author: Keeley Takimoto"
   ]
  }
 ],
 "metadata": {
  "kernelspec": {
   "display_name": "R",
   "language": "R",
   "name": "ir"
  },
  "language_info": {
   "codemirror_mode": "r",
   "file_extension": ".r",
   "mimetype": "text/x-r-source",
   "name": "R",
   "pygments_lexer": "r",
   "version": "3.6.3"
  }
 },
 "nbformat": 4,
 "nbformat_minor": 2
}
