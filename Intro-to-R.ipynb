{
 "cells": [
  {
   "cell_type": "markdown",
   "metadata": {},
   "source": [
    "# EWMBA-257: People Analytics\n",
    "## Introduction to R (optional)\n",
    "\n",
    "\n",
    "<img src=\"images/berkeley_img-4-1.jpg\"  />\n",
    "\n",
    "In this notebook, we introduce the R programming language and some R concepts that will appear in the code for your EWMBA-257 assignment.\n",
    "\n",
    "Note: **this course will NOT require you to write or interpret R code**. However, you will run pre-written R code and interpret the *outputs* of that code. If you're curious about the code itself, you may find this notebook helpful to glean a bit more about how it's structured and what it does.\n",
    "\n",
    "This notebook is geared towards people who are new to the R programming language and/or programming in general. By the end of this notebook, you should be able to:\n",
    "\n",
    "* briefly define or describe R, R data types, and names, expressions, functions, vectors, and dataframes in R\n",
    "* recognize data types, names, simple expressions, simple functions, vectors, and dataframes when they appear in code cells\n",
    "\n",
    "Estimated time to complete: 15-30 minutes\n",
    "\n",
    "### Table of Contents\n",
    "\n",
    "1.  <a href='#sectionr'>What is R (and why do we use it)?</a>\n",
    "\n",
    "2. <a href='#sectiondata'>Data Types</a>\n",
    "\n",
    "3. <a href='#sectionname'>Names</a>\n",
    "\n",
    "4. <a href='#sectionexpr'>Expressions</a>\n",
    "\n",
    "5. <a href='#sectionfunc'>Functions</a>\n",
    "\n",
    "6. <a href='#sectionvect'>Vectors</a>\n",
    "    \n",
    "7. <a href='#sectiondf'>Dataframes</a>\n",
    "\n",
    "8. <a href='#sectionmore'>More Resources</a>\n"
   ]
  },
  {
   "cell_type": "markdown",
   "metadata": {},
   "source": [
    "---\n",
    "\n",
    "## <a id=\"sectionr\"> What is R (and why do we use it)? </a>\n",
    "\n",
    "### What is R?\n",
    "\n",
    "[R](https://www.r-project.org/) is a programming language- a way for us to communicate with the computer and give it instructions. \n",
    "\n",
    "Just like any language, R has a vocabulary made up of words it can understand, and a syntax giving the rules for how to structure communication.\n",
    "\n",
    "Like natural human languages, R has rules. It differs from natural language in two important ways:\n",
    "\n",
    "    The rules are simple. You can learn most of them in a few weeks and gain reasonable proficiency with the language in a few months.\n",
    "    The rules are rigid. If you're proficient in a natural language, you can understand a non-proficient speaker, glossing over small mistakes. A computer running R code is not smart enough to do that.\n",
    "\n",
    "In this notebook, we're going to learn a few of those rules.\n",
    "\n",
    "### Why use R?\n",
    "\n",
    "As a programming language, R makes it possible to perform complex analyses on large datasets in a way that is:\n",
    "\n",
    "- repeatable: you can use the same code (with minor changes) to do the same analysis on different data\n",
    "- fast: a lot of code to perform common analysis operations has already been created for you to use without writing it yourself\n",
    "- free: the software is open source and usable by anyone at no cost\n",
    "\n",
    "R is commonly used for business and research, particularly in fields like finance, economics, and statistics. If you are planning to work in the business world, it's very possible that you will work with R or that you will work with someone who programs in R.\n",
    "\n",
    "<div class=\"alert alert-info\"><b>What about Excel/Python/SAS/etc? </b> Common analytics tasks can be done using a variety of programming languages and software, which raises a natural question- which one should you use? Generally, no single language is the \"best\". Your choice will often depend on:\n",
    "<ul><li>type of task: R was designed for statistical analysis, so it is well tested and documented for that purpose. Others have different specialties (e.g. Python and machine learning)</li>\n",
    "    <li> size of dataset: Excel has been known to run into problems for big dataset (more than 1 million rows)</li>\n",
    "    <li> location: many companies and fields have a predominant software used by most people in their community. It's a lot easier to collaborate when you all speak the same language </li></ul>\n",
    "    \n",
    "The good news is that once you are \"fluent\" in one, it becomes much easier to pick up another.\n",
    "    </div>\n",
    "\n"
   ]
  },
  {
   "cell_type": "markdown",
   "metadata": {},
   "source": [
    "---\n",
    "\n",
    "## <a id=\"sectiondata\"> Data Types </a>\n",
    "\n",
    "The data we will work with broadly falls into two types: numbers and text. \n",
    "\n",
    "Numbers show up green in code cells and can be positive, negative, or include a decimal. \n",
    "\n",
    "When we begin working with collections of data like columns and tables, you'll see that R makes a distinction between *numeric* data (decimals; the default classification for all numbers in R) and *integer* data (whole numbers).\n",
    "\n",
    "<div class=\"alert alert-info\"> <b>NOTE: </b> <p> Lines in code cells that start with a # symbol are <i>comments</i>. The # symbol tells the computer that to the right of it on that line is NOT a command and should be ignored. Comments are purely for humans to organize and explain code.</p></div>"
   ]
  },
  {
   "cell_type": "code",
   "execution_count": null,
   "metadata": {},
   "outputs": [],
   "source": [
    "# everything in this cell is numeric data\n",
    "\n",
    "3.14159\n",
    "\n",
    "-70.1\n",
    "\n",
    "# the next three can also be classified as integers\n",
    "4\n",
    "\n",
    "87623000983\n",
    "\n",
    "-667"
   ]
  },
  {
   "cell_type": "markdown",
   "metadata": {},
   "source": [
    "Text data (also called *character* data or *strings*) show up red in code cells. Strings are enclosed in double or single quotes. Note that numbers can appear in strings. "
   ]
  },
  {
   "cell_type": "code",
   "execution_count": null,
   "metadata": {},
   "outputs": [],
   "source": [
    "# Strings\n",
    "\"a\"\n",
    "\n",
    "\"Hello world!\"\n",
    "\n",
    "\"You may write me down in history\n",
    "With your bitter, twisted lies,\n",
    "You may tread me in the very dirt\n",
    "But still, like dust, I'll rise.\"\n",
    "\n",
    "# to the computer this is a string, NOT numerical data\n",
    "\"3.14159\""
   ]
  },
  {
   "cell_type": "markdown",
   "metadata": {},
   "source": [
    "Finally, there's one special kind of data that looks like text at first glance. *Logical* data are truth values- they say whether or not a condition or state is true. There are only two possible logical data values, `TRUE` and `FALSE`."
   ]
  },
  {
   "cell_type": "code",
   "execution_count": null,
   "metadata": {},
   "outputs": [],
   "source": [
    "# logical data\n",
    "TRUE\n",
    "\n",
    "FALSE"
   ]
  },
  {
   "cell_type": "markdown",
   "metadata": {},
   "source": [
    "---\n",
    "\n",
    "## <a id=\"sectionexpr\"> Expressions </a>\n",
    "\n",
    "A piece of communication in R is called an expression- it tells the computer what to do with the data we give it.\n",
    "\n",
    "Here's an example of an expression. "
   ]
  },
  {
   "cell_type": "code",
   "execution_count": null,
   "metadata": {},
   "outputs": [],
   "source": [
    "# an expression\n",
    "14 + 20"
   ]
  },
  {
   "cell_type": "markdown",
   "metadata": {},
   "source": [
    "When you run the cell, the computer **evaluates** each expression within it and prints the result. \n",
    "\n",
    "<div class=\"alert alert-info\"> Remember- you can run cells by clicking on the cell to highlight in, then clicking the Run button in the toolbar at the top or pressing Shift+Enter on your keyboard. </div>"
   ]
  },
  {
   "cell_type": "code",
   "execution_count": null,
   "metadata": {},
   "outputs": [],
   "source": [
    "# more expressions. Run the cell to evaluate them\n",
    "100 / 10\n",
    "\n",
    "4.3 + 10.98\n",
    "\n",
    "33 - 9 * (40000 + 1)\n",
    "\n",
    "884"
   ]
  },
  {
   "cell_type": "markdown",
   "metadata": {},
   "source": [
    "Many basic arithmetic operations can be used in R, like `*` (multiplication), `+` (addition), `-` (subtraction), and `/` (division). There are many others, which you can find information about [here](https://www.statmethods.net/management/operators.html). \n",
    "\n",
    "The computer evaluates arithmetic according to the PEMDAS order of operations (just like you may have learned in middle school): anything in parentheses is done first, followed by exponents, then multiplication and division, and finally addition and subtraction."
   ]
  },
  {
   "cell_type": "code",
   "execution_count": null,
   "metadata": {},
   "outputs": [],
   "source": [
    "# before you run this cell, can you say what it should print?\n",
    "# run the cell to check your answer\n",
    "4 - 2 * (1 + 6 / 3)"
   ]
  },
  {
   "cell_type": "markdown",
   "metadata": {},
   "source": [
    "If you'd like, feel free to use the next cell to experiment with arithmetic in R."
   ]
  },
  {
   "cell_type": "code",
   "execution_count": null,
   "metadata": {},
   "outputs": [],
   "source": [
    "# use this cell to practice creating and executing arithmetic expressions\n"
   ]
  },
  {
   "cell_type": "markdown",
   "metadata": {},
   "source": [
    "---\n",
    "\n",
    "## <a id=\"sectionerr\"> Errors </a>\n",
    "\n",
    "Whenever you write code, you'll make mistakes. When you run a code cell that has errors, R will produce an *error message* to tell you that the computer doesn't understand what you want it to do.\n",
    "\n",
    "Errors are completely normal; experienced programmers make many errors every single day (reports vary, but [one study found that professionals spend 35-50% of their programming time fixing errors](http://citeseerx.ist.psu.edu/viewdoc/download?doi=10.1.1.444.9094&rep=rep1&type=pdf)). When you make an error, the next steps are to find the source of the problem, fix it, and move on.\n",
    "\n",
    "We have made an error in the next cell. Run it and see what happens.\n"
   ]
  },
  {
   "cell_type": "code",
   "execution_count": null,
   "metadata": {},
   "outputs": [],
   "source": [
    "print(\"Hello world!\""
   ]
  },
  {
   "cell_type": "markdown",
   "metadata": {},
   "source": [
    "You should see something like this (minus our annotations):\n",
    "\n",
    "<img src=\"images/error.png\"/>\n",
    "\n",
    "The most important part of the message is at the end of the first line (after the last colon, outlined in blue in the image). \"unexpected end of input\" indicates that there is something missing at the end of the line of code- can you figure out what?\n",
    "\n",
    "R errors in general can be confusing to look at. Much of the rest of the error message details what specific part of the code (either in the notebook or inside the R software itself) generated the error. A good strategy when you're learning R is to ignore everything other than the explanation. Even the explanations can be confusing, though, which is why most debugging (as a student or as a professional) involves copying your error into a search engine or asking someone else for help."
   ]
  },
  {
   "cell_type": "markdown",
   "metadata": {},
   "source": [
    "---\n",
    "\n",
    "## <a id=\"sectionname\"> Names </a>\n",
    "\n",
    "Sometimes, the values you work with can get cumbersome- maybe the expression that gives the value is very complicated, or maybe the value itself is long. In these cases it's useful to give the value a **name**.\n",
    "\n",
    "We can name values using what's called an *assignment* statement.\n"
   ]
  },
  {
   "cell_type": "code",
   "execution_count": null,
   "metadata": {},
   "outputs": [],
   "source": [
    "# assigns 442 to x\n",
    "x = 442"
   ]
  },
  {
   "cell_type": "markdown",
   "metadata": {},
   "source": [
    "The assignment statement has three parts. On the left is the *name* (`x`). On the right is the *value* (442). The *equals sign* in the middle tells the computer to assign the value to the name.\n",
    "\n",
    "You may also see `<-` used to assign names in R. `<-` does the same thing as `=`."
   ]
  },
  {
   "cell_type": "code",
   "execution_count": null,
   "metadata": {},
   "outputs": [],
   "source": [
    "# equivalent expression to assign 442 to x\n",
    "x <- 442"
   ]
  },
  {
   "cell_type": "markdown",
   "metadata": {},
   "source": [
    "You'll notice that when you run the cell with the assignment, it doesn't print anything. But, if we try to access `x` again in the future, it will have the value we assigned it."
   ]
  },
  {
   "cell_type": "code",
   "execution_count": null,
   "metadata": {},
   "outputs": [],
   "source": [
    "# show the value of x\n",
    "x"
   ]
  },
  {
   "cell_type": "markdown",
   "metadata": {},
   "source": [
    "You can also assign names to expressions. The computer will compute the expression and assign the name to the result of the computation."
   ]
  },
  {
   "cell_type": "code",
   "execution_count": null,
   "metadata": {},
   "outputs": [],
   "source": [
    "y = 50 * 2 + 1\n",
    "y"
   ]
  },
  {
   "cell_type": "markdown",
   "metadata": {},
   "source": [
    "We can than use these names as if they were the values they represent."
   ]
  },
  {
   "cell_type": "code",
   "execution_count": null,
   "metadata": {},
   "outputs": [],
   "source": [
    "x - 42"
   ]
  },
  {
   "cell_type": "code",
   "execution_count": null,
   "metadata": {},
   "outputs": [],
   "source": [
    "x + y"
   ]
  },
  {
   "cell_type": "markdown",
   "metadata": {},
   "source": [
    "<div class=\"alert alert-warning\"> <p><b>Optional</b>: <p>Use the next cell to practice assigning names to values. Note that names in R can be made up of letters, numbers, periods, and underlines, as long as they start with a letter or a period followed by a letter.</p>\n"
   ]
  },
  {
   "cell_type": "code",
   "execution_count": null,
   "metadata": {},
   "outputs": [],
   "source": [
    "# practice with names\n"
   ]
  },
  {
   "cell_type": "markdown",
   "metadata": {},
   "source": [
    "---\n",
    "\n",
    "## <a id='sectionfunc'>Functions</a>\n",
    "We've seen that values can have names (often called **variables**), but operations may also have names. A named operation is called a **function**. R has some functions built into it."
   ]
  },
  {
   "cell_type": "code",
   "execution_count": null,
   "metadata": {},
   "outputs": [],
   "source": [
    "# a built-in function \n",
    "round"
   ]
  },
  {
   "cell_type": "markdown",
   "metadata": {},
   "source": [
    "Functions get used in *call expressions*, where a function is named and given values to operate on inside a set of parentheses. The `round` function returns the number it was given, rounded to the nearest whole number."
   ]
  },
  {
   "cell_type": "code",
   "execution_count": null,
   "metadata": {},
   "outputs": [],
   "source": [
    "# a call expression using round\n",
    "round(1988.74699)"
   ]
  },
  {
   "cell_type": "markdown",
   "metadata": {},
   "source": [
    "A function may also be called on more than one value (called *arguments*). For instance, the `min` function takes however many arguments you'd like and returns the smallest. Multiple arguments are separated by commas."
   ]
  },
  {
   "cell_type": "code",
   "execution_count": null,
   "metadata": {},
   "outputs": [],
   "source": [
    "min(9, -34, 0, 99)"
   ]
  },
  {
   "cell_type": "markdown",
   "metadata": {},
   "source": [
    "<div class= \"alert alert-warning\"><p><b>Optional:</b></p> Practice calling some built-in R functions.\n",
    "<ul>\n",
    "    <li>The `abs` function takes one numerical argument (just like `round`)</li>\n",
    "    <li>The `max` function takes one or more numerical arguments (just like `min`)</li>\n",
    "    </ul>\n",
    "\n",
    "<p>Try calling `abs` and `max` in the cell below. What does each function do?</p>\n",
    "\n",
    "<p>Also try calling each function *incorrectly*, such as with the wrong number of arguments. What kinds of error messages do you see?</p>"
   ]
  },
  {
   "cell_type": "code",
   "execution_count": null,
   "metadata": {},
   "outputs": [],
   "source": [
    "# practice with functions\n"
   ]
  },
  {
   "cell_type": "markdown",
   "metadata": {},
   "source": [
    "---\n",
    "\n",
    "## <a id=\"sectionvect\"> Vectors </a>\n",
    "\n",
    "Ideally, we want to be able to manipulate many values at the same time. We can do this using sequences: collections of data, all sharing the same type (e.g. numerical).\n",
    "\n",
    "The sequence we'll work with the most is a **vector**. Vectors are made using the `c` function."
   ]
  },
  {
   "cell_type": "code",
   "execution_count": null,
   "metadata": {},
   "outputs": [],
   "source": [
    "# make a vector and name it 'numbers'\n",
    "numbers = c(4, 8, 15, 16, 23, 42)\n",
    "\n",
    "# show the numbers vector\n",
    "numbers"
   ]
  },
  {
   "cell_type": "markdown",
   "metadata": {},
   "source": [
    "You can retrieve items in a vector by **indexing**. To index an item, put the numerical position of the item in square brackets next to the name of the vector."
   ]
  },
  {
   "cell_type": "code",
   "execution_count": null,
   "metadata": {},
   "outputs": [],
   "source": [
    "# retrieve the second item in the vector\n",
    "numbers[2]"
   ]
  },
  {
   "cell_type": "markdown",
   "metadata": {},
   "source": [
    "Some functions take vectors as arguments."
   ]
  },
  {
   "cell_type": "code",
   "execution_count": null,
   "metadata": {},
   "outputs": [],
   "source": [
    "# get the average value of the vector\n",
    "mean(numbers)\n",
    "\n",
    "# add up all the numbers within the vector\n",
    "sum(numbers)"
   ]
  },
  {
   "cell_type": "markdown",
   "metadata": {},
   "source": [
    "And, you can do arithmetic with vectors. Note that this is *element-wise* arithmetic: for addition, the first element of vector 1 is added to the first element of vector 2, the second element of vector one is added to the second element of vector two, and so on. The result will be a new vector."
   ]
  },
  {
   "cell_type": "code",
   "execution_count": null,
   "metadata": {},
   "outputs": [],
   "source": [
    "# make another vector called primes\n",
    "primes = c(2, 3, 5, 7, 11, 13)\n",
    "\n",
    "# add numbers to primes\n",
    "numbers + primes"
   ]
  },
  {
   "cell_type": "markdown",
   "metadata": {},
   "source": [
    "<div class= \"alert alert-warning\"><p><b>Optional:</b></p> Practice creating and manipulating vectors.\n",
    "</div>"
   ]
  },
  {
   "cell_type": "code",
   "execution_count": null,
   "metadata": {},
   "outputs": [],
   "source": [
    "# practice with vectors\n"
   ]
  },
  {
   "cell_type": "markdown",
   "metadata": {},
   "source": [
    "\n",
    "---\n",
    "## <a id=\"sectiondf\">Dataframes</a>\n",
    "\n",
    "Dataframes are fundamental ways of organizing and displaying data in tables. Technically, they are collections of vectors, where each vector has the same length. Mentally, you can think of a dataframe as a spreadsheet where each vector represents a column.\n",
    "\n",
    "Since **columns** are vectors, you know that all of the data in each column is of the same type (numerical, text, etc). Columns typically represent a *feature* about the data, such as:\n",
    "\n",
    "- color\n",
    "- price\n",
    "- name\n",
    "\n",
    "You can also think about a dataframe in terms of its rows. Each row may have data of different types. A row usually represents an *observation* of something in the world with many features, such as:\n",
    "\n",
    "- a person participating in a research study\n",
    "- a day of stock trading\n",
    "- a product at a store\n",
    "\n",
    "Dataframes are usually loaded in from spreadsheet files. Our data is in a csv (or \"comma-separated values\") file, so we will use the `read.csv` function. This function takes the *path*, or location, of the file as its argument."
   ]
  },
  {
   "cell_type": "code",
   "execution_count": null,
   "metadata": {},
   "outputs": [],
   "source": [
    "# load the dataset\n",
    "hr = read.csv(\"data/HR-Employee-Attrition.csv\")"
   ]
  },
  {
   "cell_type": "markdown",
   "metadata": {},
   "source": [
    "Once the dataset is loaded, we can view the first six rows using the `head` function."
   ]
  },
  {
   "cell_type": "code",
   "execution_count": null,
   "metadata": {},
   "outputs": [],
   "source": [
    "# show the first 6 rows of the dataset\n",
    "head(hr)"
   ]
  },
  {
   "cell_type": "markdown",
   "metadata": {},
   "source": [
    "At the very top, we can see the visible dimensions of the dataframe as \"number of rows x number of columns\" (in this case, 6 visible rows and 35 columns). The names of the columns are listed next, with the type of data in each column underneath (most of these are \"int\" for \"integer\"). Finally, it displays the rows of the dataframe.\n",
    "\n",
    "Note: because this dataframe has a lot of columns, some of the columns in the middle have been cut out and replaced with \"...\".\n",
    "\n",
    "Also note: some of our columns have been classified as \"fct\" for \"factor\". **Factor** data represents categories- by default, R assumes that the columns with text in them are describing nominal or ordinal categories.\n",
    "\n",
    "We can use functions on a dataframe, just as we can use functions on values or vectors. Here are some examples of common dataframe functions:"
   ]
  },
  {
   "cell_type": "code",
   "execution_count": null,
   "metadata": {},
   "outputs": [],
   "source": [
    "# get the dimensions (number of rows and number of columns) of the dataframe\n",
    "dim(hr)\n",
    "\n",
    "# list the names of the columns\n",
    "colnames(hr)"
   ]
  },
  {
   "cell_type": "markdown",
   "metadata": {},
   "source": [
    "And you can index a single column from a dataframe, similarly to how you can index a single value from a vector. The syntax is a bit different- you index a column using the `$` symbol."
   ]
  },
  {
   "cell_type": "code",
   "execution_count": null,
   "metadata": {},
   "outputs": [],
   "source": [
    "# index the Department column\n",
    "hr$Department"
   ]
  },
  {
   "cell_type": "markdown",
   "metadata": {},
   "source": [
    "---\n",
    "\n",
    "## <a id=\"sectionmore\"> More Resources for Learning R </a>\n",
    "\n",
    "This notebook has given an extremely brief overview of the major R concepts used to manipulate the data for the IBM attrition data assignment, including Data Types, Names, Errors, Functions, Vectors, and Dataframes. Hopefully you're now able to recognize some of these concepts in the pre-written code seen in the assignment itself.\n",
    "\n",
    "If you're interested in learning more about R (and potentially writing your own R code), there are a wealth of resources available:\n",
    "\n",
    "### UC Berkeley workshops and bootcamps\n",
    "* [D-Lab](https://dlab.berkeley.edu)\n",
    "\n",
    "### Websites for R help:  \n",
    "* [STHDA](http://www.sthda.com/english/)  \n",
    "* [Quick-R](http://statmethods.net/)  \n",
    "* [UCLA idre](https://stats.idre.ucla.edu/r/)  \n",
    "* [R-bloggers](https://www.r-bloggers.com/)  \n",
    "* [Stack Overflow - R](http://stackoverflow.com/questions/tagged/r)  \n",
    "\n",
    "### Web Resources\n",
    "* [R Markdown: The Definitive Guide](https://bookdown.org/yihui/rmarkdown/)  \n",
    "* [The tidyverse style guide](http://style.tidyverse.org/)  \n",
    "* [Tidy Text Mining](https://www.tidytextmining.com/tidytext.html)\n",
    "* [Regular expressions with stringr](https://stringr.tidyverse.org/articles/regular-expressions.html)\n",
    "* [Quick Intro to Parallel Computing in R](https://nceas.github.io/oss-lessons/parallel-computing-in-r/parallel-computing-in-r.html) \n",
    "* [Software Carpentry](https://swcarpentry.github.io/)  \n",
    "\n",
    "### Books\n",
    "* [Kearns GJ. 2010. Introduction to Probability and Statistics in R](http://www.atmos.albany.edu/facstaff/timm/ATM315spring14/R/IPSUR.pdf)\n",
    "* [Wickham H. 2014. Advanced R](http://adv-r.had.co.nz/)  \n",
    "* [R for Data Science](http://r4ds.had.co.nz/)  \n",
    "* [Lander J. 2013. R for everyone: Advanced analytics and graphics](http://www.jaredlander.com/r-for-everyone/)  \n",
    "* [Matloff N. 2011. The art of R programming: A tour of statistical software design](https://www.nostarch.com/artofr.htm)  \n",
    "* [Brunsdon C, Comber L. 2015. An Introduction to R for Spatial Analysis and Mapping](https://us.sagepub.com/en-us/nam/an-introduction-to-r-for-spatial-analysis-and-mapping/book241031)\n",
    "* [James G, Witten D, Hastie T, Tibshirani R. 2013. An Introduction to Statistical Learning: With Applications in R, 7th edition](http://faculty.marshall.usc.edu/gareth-james/ISL/)"
   ]
  },
  {
   "cell_type": "markdown",
   "metadata": {},
   "source": [
    "---\n",
    "\n",
    "Notebook created by Keeley Takimoto.\n",
    "\n",
    "Some text adapted with permission from materials made for Haas Executive Education's Data Science Online course by Keeley Takimoto.\n",
    "\n",
    "Links in the \"More Resources for Learning R\" section from the [UC Berkeley D-Lab \"R Fundamentals\" workshop](https://github.com/dlab-berkeley/R-Fundamentals) by Evan Muzzall, Aniket Kesari, Jae Yeon Kim, Sam Abdel-Ghaffar, Guadalupe Tuñón, Shinhye Choi, Patty Frontiera, Rochelle Terman, and Dillon Niederhut ([CC BY-NC 4.0](https://github.com/dlab-berkeley/R-Fundamentals/blob/master/LICENSE))\n"
   ]
  }
 ],
 "metadata": {
  "kernelspec": {
   "display_name": "R",
   "language": "R",
   "name": "ir"
  },
  "language_info": {
   "codemirror_mode": "r",
   "file_extension": ".r",
   "mimetype": "text/x-r-source",
   "name": "R",
   "pygments_lexer": "r",
   "version": "3.6.1"
  }
 },
 "nbformat": 4,
 "nbformat_minor": 2
}
